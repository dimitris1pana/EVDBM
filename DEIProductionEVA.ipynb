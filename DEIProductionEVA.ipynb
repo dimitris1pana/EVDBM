{
 "cells": [
  {
   "cell_type": "code",
   "execution_count": 1196,
   "metadata": {},
   "outputs": [],
   "source": [
    "\n",
    "# TimeSeries - Block Maxima\n",
    "from pydoc import describe\n",
    "from unicodedata import decimal\n",
    "from pyextremes import EVA,get_extremes , __version__\n",
    "import seaborn as sns\n",
    "import pandas as pd\n",
    "import matplotlib.pyplot as plt\n",
    "import numpy as np\n",
    "import sqlite3\n",
    "import numpy as np\n",
    "import datetime\n",
    "from dateutil.relativedelta import relativedelta\n",
    "from scipy.signal import find_peaks\n",
    "import pdb"
   ]
  },
  {
   "cell_type": "code",
   "execution_count": 1197,
   "metadata": {},
   "outputs": [],
   "source": [
    "# np.seterr(divide='ignore', invalid='ignore')\n"
   ]
  },
  {
   "cell_type": "code",
   "execution_count": 1198,
   "metadata": {},
   "outputs": [],
   "source": [
    "def loadCsv(path):\n",
    "    loader = pd.read_csv(path, index_col=0,delimiter=';', parse_dates=True).squeeze()\n",
    "    \n",
    "    return loader"
   ]
  },
  {
   "cell_type": "code",
   "execution_count": 1199,
   "metadata": {},
   "outputs": [
    {
     "name": "stdout",
     "output_type": "stream",
     "text": [
      "<class 'pandas.core.frame.DataFrame'>\n",
      "Index: 318 entries, 1948 to T124IT10421013\n",
      "Data columns (total 18 columns):\n",
      " #   Column                                    Non-Null Count  Dtype  \n",
      "---  ------                                    --------------  -----  \n",
      " 0   Address                                   318 non-null    object \n",
      " 1   Location Partner                          317 non-null    object \n",
      " 2   Type of installation (Public/ Private)    318 non-null    object \n",
      " 3   City                                      318 non-null    object \n",
      " 4   Manufacturer                              318 non-null    object \n",
      " 5   EVSE Sockets                              318 non-null    int64  \n",
      " 6   max P per EVSE (kW)                       318 non-null    int64  \n",
      " 7   Unnamed: 8                                318 non-null    int64  \n",
      " 8   Number of Charging Sessions               318 non-null    int64  \n",
      " 9   Energy consumed (kWh)                     318 non-null    float64\n",
      " 10  Charging Time (h)                         318 non-null    float64\n",
      " 11  Euros (VAT included)                      318 non-null    float64\n",
      " 12  Max Energy Consumed in one session (kWh)  318 non-null    float64\n",
      " 13  Total Utilization Rate                    318 non-null    object \n",
      " 14  EVSE ID 1                                 318 non-null    object \n",
      " 15  Utilization Rate  Socket #1               312 non-null    object \n",
      " 16  Date                                      318 non-null    object \n",
      " 17  Μέρες συνδεμένος                          318 non-null    int64  \n",
      "dtypes: float64(4), int64(5), object(9)\n",
      "memory usage: 47.2+ KB\n",
      "None\n",
      "<class 'pandas.core.frame.DataFrame'>\n",
      "Index: 318 entries, 1948 to T124IT10421013\n",
      "Data columns (total 18 columns):\n",
      " #   Column                                    Non-Null Count  Dtype  \n",
      "---  ------                                    --------------  -----  \n",
      " 0   Address                                   318 non-null    object \n",
      " 1   Location Partner                          317 non-null    object \n",
      " 2   Type of installation (Public/ Private)    318 non-null    object \n",
      " 3   City                                      318 non-null    object \n",
      " 4   Manufacturer                              318 non-null    object \n",
      " 5   EVSE Sockets                              318 non-null    int64  \n",
      " 6   max P per EVSE (kW)                       318 non-null    int64  \n",
      " 7   Unnamed: 8                                318 non-null    int64  \n",
      " 8   Number of Charging Sessions               318 non-null    int64  \n",
      " 9   Energy consumed (kWh)                     318 non-null    float64\n",
      " 10  Charging Time (h)                         318 non-null    float64\n",
      " 11  Euros (VAT included)                      318 non-null    float64\n",
      " 12  Max Energy Consumed in one session (kWh)  318 non-null    float64\n",
      " 13  Total Utilization Rate                    318 non-null    object \n",
      " 14  EVSE ID 1                                 318 non-null    object \n",
      " 15  Utilization Rate  Socket #1               312 non-null    object \n",
      " 16  Date                                      318 non-null    object \n",
      " 17  Μέρες συνδεμένος                          318 non-null    int64  \n",
      "dtypes: float64(4), int64(5), object(9)\n",
      "memory usage: 47.2+ KB\n",
      "None\n",
      "                       Address Location Partner  \\\n",
      "Charger ID                                        \n",
      "1948        Athinon-Lamias 20o   AB Supermarket   \n",
      "2057        Athinon-Lamias 20o   AB Supermarket   \n",
      "2104        Athinon-Lamias 20o   AB Supermarket   \n",
      "2114        Athinon-Lamias 20o   AB Supermarket   \n",
      "2154        Athinon-Lamias 20o   AB Supermarket   \n",
      "\n",
      "           Type of installation (Public/ Private)            City  \\\n",
      "Charger ID                                                          \n",
      "1948                                       Public  Agios Stefanos   \n",
      "2057                                       Public  Agios Stefanos   \n",
      "2104                                       Public  Agios Stefanos   \n",
      "2114                                       Public  Agios Stefanos   \n",
      "2154                                       Public  Agios Stefanos   \n",
      "\n",
      "           Manufacturer  EVSE Sockets  max P per EVSE (kW)  Unnamed: 8  \\\n",
      "Charger ID                                                               \n",
      "1948              Blink             2                   22          44   \n",
      "2057              Blink             2                   22          44   \n",
      "2104              Blink             2                   22          44   \n",
      "2114              Blink             2                   22          44   \n",
      "2154              Blink             2                   22          44   \n",
      "\n",
      "            Number of Charging Sessions  Energy consumed (kWh)  \\\n",
      "Charger ID                                                       \n",
      "1948                                362                1910.89   \n",
      "2057                                368                1951.31   \n",
      "2104                                269                2002.51   \n",
      "2114                                380                1917.74   \n",
      "2154                                375                2143.21   \n",
      "\n",
      "            Charging Time (h)  Euros (VAT included)  \\\n",
      "Charger ID                                            \n",
      "1948                   379.11                   0.0   \n",
      "2057                   308.13                   0.0   \n",
      "2104                   366.32                   0.0   \n",
      "2114                   326.68                   0.0   \n",
      "2154                   340.24                   0.0   \n",
      "\n",
      "            Max Energy Consumed in one session (kWh) Total Utilization Rate  \\\n",
      "Charger ID                                                                    \n",
      "1948                                           73.30                  0.59%   \n",
      "2057                                           49.75                  0.60%   \n",
      "2104                                           56.91                  0.62%   \n",
      "2114                                           64.69                  0.59%   \n",
      "2154                                           62.37                  0.66%   \n",
      "\n",
      "                       EVSE ID 1 Utilization Rate  Socket #1    Date  \\\n",
      "Charger ID                                                             \n",
      "1948        GR-PPC-E0000001948-1                       0.76%  7/2/21   \n",
      "2057        GR-PPC-E0000002057-1                       0.88%  7/2/21   \n",
      "2104        GR-PPC-E0000002104-1                       0.75%  7/2/21   \n",
      "2114        GR-PPC-E0000002114-1                       0.90%  7/2/21   \n",
      "2154        GR-PPC-E0000002154-1                       0.96%  7/2/21   \n",
      "\n",
      "            Μέρες συνδεμένος  \n",
      "Charger ID                    \n",
      "1948                     307  \n",
      "2057                     307  \n",
      "2104                     307  \n",
      "2114                     307  \n",
      "2154                     307  \n"
     ]
    }
   ],
   "source": [
    "dataOriginal = loadCsv('dei2.csv')\n",
    "# print(data.head())\n",
    "# print(data.describe())\n",
    "print(dataOriginal.info())\n",
    "# data.dropna(inplace=True)\n",
    "print(dataOriginal.info())\n",
    "print(dataOriginal.head())"
   ]
  },
  {
   "cell_type": "code",
   "execution_count": 1200,
   "metadata": {},
   "outputs": [
    {
     "name": "stdout",
     "output_type": "stream",
     "text": [
      "                                                          Address  \\\n",
      "Charger ID                                                          \n",
      "1948                                           Athinon-Lamias 20o   \n",
      "2057                                           Athinon-Lamias 20o   \n",
      "2104                                           Athinon-Lamias 20o   \n",
      "2114                                           Athinon-Lamias 20o   \n",
      "2154                                           Athinon-Lamias 20o   \n",
      "...                                                           ...   \n",
      "T54HU10321013   Ethniki Odos 12o Km Ethnikis Thessalonikis Pereas   \n",
      "ACE0216207                                     Stavrou Niarchou 8   \n",
      "ACE0216224                               Leoforos Staurou Kionion   \n",
      "T54HU11021001                                         Zefirou 111   \n",
      "T124IT10421013                             Leoforos Mesogeion 299   \n",
      "\n",
      "                Location Partner Type of installation (Public/ Private)  \\\n",
      "Charger ID                                                                \n",
      "1948              AB Supermarket                                 Public   \n",
      "2057              AB Supermarket                                 Public   \n",
      "2104              AB Supermarket                                 Public   \n",
      "2114              AB Supermarket                                 Public   \n",
      "2154              AB Supermarket                                 Public   \n",
      "...                          ...                                    ...   \n",
      "T54HU10321013              IKEA                                  Public   \n",
      "ACE0216207            Kotsovolos                                 Public   \n",
      "ACE0216224               ELINOIL                                 Public   \n",
      "T54HU11021001   BBB Municipality                                 Public   \n",
      "T124IT10421013               DEI                                 Public   \n",
      "\n",
      "                          City Manufacturer  EVSE Sockets  \\\n",
      "Charger ID                                                  \n",
      "1948            Agios Stefanos        Blink             2   \n",
      "2057            Agios Stefanos        Blink             2   \n",
      "2104            Agios Stefanos        Blink             2   \n",
      "2114            Agios Stefanos        Blink             2   \n",
      "2154            Agios Stefanos        Blink             2   \n",
      "...                        ...          ...           ...   \n",
      "T54HU10321013     Thessaloniki          ABB             2   \n",
      "ACE0216207            Ioannina     Alfen BV             2   \n",
      "ACE0216224        Thessaloniki     Alfen BV             2   \n",
      "T54HU11021001            Voula     Alfen BV             2   \n",
      "T124IT10421013       Chalandri          ABB             2   \n",
      "\n",
      "                max P per EVSE (kW)  Unnamed: 8  Number of Charging Sessions  \\\n",
      "Charger ID                                                                     \n",
      "1948                             22          44                          362   \n",
      "2057                             22          44                          368   \n",
      "2104                             22          44                          269   \n",
      "2114                             22          44                          380   \n",
      "2154                             22          44                          375   \n",
      "...                             ...         ...                          ...   \n",
      "T54HU10321013                    50         100                         1425   \n",
      "ACE0216207                       22          44                           31   \n",
      "ACE0216224                       22          44                           94   \n",
      "T54HU11021001                    50         100                         2698   \n",
      "T124IT10421013                   60         120                         1351   \n",
      "\n",
      "                Energy consumed (kWh)  Charging Time (h)  \\\n",
      "Charger ID                                                 \n",
      "1948                          1910.89             379.11   \n",
      "2057                          1951.31             308.13   \n",
      "2104                          2002.51             366.32   \n",
      "2114                          1917.74             326.68   \n",
      "2154                          2143.21             340.24   \n",
      "...                               ...                ...   \n",
      "T54HU10321013                30122.30            1051.32   \n",
      "ACE0216207                     419.13              55.01   \n",
      "ACE0216224                    1514.91             241.26   \n",
      "T54HU11021001                41204.52            2820.53   \n",
      "T124IT10421013               30160.86             766.14   \n",
      "\n",
      "                Euros (VAT included)  \\\n",
      "Charger ID                             \n",
      "1948                             0.0   \n",
      "2057                             0.0   \n",
      "2104                             0.0   \n",
      "2114                             0.0   \n",
      "2154                             0.0   \n",
      "...                              ...   \n",
      "T54HU10321013                    0.0   \n",
      "ACE0216207                       0.0   \n",
      "ACE0216224                       0.0   \n",
      "T54HU11021001                    0.0   \n",
      "T124IT10421013                   0.0   \n",
      "\n",
      "                Max Energy Consumed in one session (kWh)  \\\n",
      "Charger ID                                                 \n",
      "1948                                               73.30   \n",
      "2057                                               49.75   \n",
      "2104                                               56.91   \n",
      "2114                                               64.69   \n",
      "2154                                               62.37   \n",
      "...                                                  ...   \n",
      "T54HU10321013                                      85.09   \n",
      "ACE0216207                                         78.87   \n",
      "ACE0216224                                         57.50   \n",
      "T54HU11021001                                      88.46   \n",
      "T124IT10421013                                     85.09   \n",
      "\n",
      "               Total Utilization Rate                 EVSE ID 1  \\\n",
      "Charger ID                                                        \n",
      "1948                            0.59%      GR-PPC-E0000001948-1   \n",
      "2057                            0.60%      GR-PPC-E0000002057-1   \n",
      "2104                            0.62%      GR-PPC-E0000002104-1   \n",
      "2114                            0.59%      GR-PPC-E0000002114-1   \n",
      "2154                            0.66%      GR-PPC-E0000002154-1   \n",
      "...                               ...                       ...   \n",
      "T54HU10321013                  19.31%   GR-PPC-ET54HU10321013-1   \n",
      "ACE0216207                      0.63%      GR-PPC-EACE0216207-1   \n",
      "ACE0216224                      3.19%      GR-PPC-EACE0216224-1   \n",
      "T54HU11021001                  55.38%   GR-PPC-ET54HU11021001-1   \n",
      "T124IT10421013                 74.80%  GR-PPC-ET124IT10421013-1   \n",
      "\n",
      "               Utilization Rate  Socket #1     Date  Μέρες συνδεμένος  \n",
      "Charger ID                                                             \n",
      "1948                                 0.76%   7/2/21               307  \n",
      "2057                                 0.88%   7/2/21               307  \n",
      "2104                                 0.75%   7/2/21               307  \n",
      "2114                                 0.90%   7/2/21               307  \n",
      "2154                                 0.96%   7/2/21               307  \n",
      "...                                    ...      ...               ...  \n",
      "T54HU10321013                        2.47%   3/1/22                65  \n",
      "ACE0216207                           1.01%   3/3/22                63  \n",
      "ACE0216224                           2.83%  3/21/22                45  \n",
      "T54HU11021001                       27.73%   4/4/22                31  \n",
      "T124IT10421013                      73.48%  4/21/22                14  \n",
      "\n",
      "[318 rows x 18 columns]\n"
     ]
    }
   ],
   "source": [
    "print(dataOriginal)\n"
   ]
  },
  {
   "cell_type": "code",
   "execution_count": null,
   "metadata": {},
   "outputs": [],
   "source": []
  },
  {
   "cell_type": "markdown",
   "metadata": {},
   "source": [
    "<h1>Engineering</h1>"
   ]
  },
  {
   "cell_type": "code",
   "execution_count": 1201,
   "metadata": {},
   "outputs": [],
   "source": [
    "# def filter_by_timeFrame(data, column, start_time, end_time):\n",
    "#     data[column] = pd.to_DEI Blue Launch (1/7/2021)(data[column])\n",
    "#     data = data[(data[column] >= start_time) & (data[column] <= end_time)]\n",
    "#     return data\n",
    "# data = filter_by_timeFrame(dataOriginal, 'timestamp', '12:00:00', '16:00:00')\n"
   ]
  },
  {
   "cell_type": "code",
   "execution_count": 1202,
   "metadata": {},
   "outputs": [
    {
     "name": "stdout",
     "output_type": "stream",
     "text": [
      "                       Address Location Partner  \\\n",
      "Charger ID                                        \n",
      "1948        Athinon-Lamias 20o   AB Supermarket   \n",
      "2057        Athinon-Lamias 20o   AB Supermarket   \n",
      "2104        Athinon-Lamias 20o   AB Supermarket   \n",
      "2114        Athinon-Lamias 20o   AB Supermarket   \n",
      "2154        Athinon-Lamias 20o   AB Supermarket   \n",
      "\n",
      "           Type of installation (Public/ Private)            City  \\\n",
      "Charger ID                                                          \n",
      "1948                                       Public  Agios Stefanos   \n",
      "2057                                       Public  Agios Stefanos   \n",
      "2104                                       Public  Agios Stefanos   \n",
      "2114                                       Public  Agios Stefanos   \n",
      "2154                                       Public  Agios Stefanos   \n",
      "\n",
      "           Manufacturer  EVSE Sockets  max P per EVSE (kW)  Unnamed: 8  \\\n",
      "Charger ID                                                               \n",
      "1948              Blink             2                   22          44   \n",
      "2057              Blink             2                   22          44   \n",
      "2104              Blink             2                   22          44   \n",
      "2114              Blink             2                   22          44   \n",
      "2154              Blink             2                   22          44   \n",
      "\n",
      "            Number of Charging Sessions  Energy consumed (kWh)  \\\n",
      "Charger ID                                                       \n",
      "1948                                362                1910.89   \n",
      "2057                                368                1951.31   \n",
      "2104                                269                2002.51   \n",
      "2114                                380                1917.74   \n",
      "2154                                375                2143.21   \n",
      "\n",
      "            Charging Time (h)  Euros (VAT included)  \\\n",
      "Charger ID                                            \n",
      "1948                   379.11                   0.0   \n",
      "2057                   308.13                   0.0   \n",
      "2104                   366.32                   0.0   \n",
      "2114                   326.68                   0.0   \n",
      "2154                   340.24                   0.0   \n",
      "\n",
      "            Max Energy Consumed in one session (kWh) Total Utilization Rate  \\\n",
      "Charger ID                                                                    \n",
      "1948                                           73.30                  0.59%   \n",
      "2057                                           49.75                  0.60%   \n",
      "2104                                           56.91                  0.62%   \n",
      "2114                                           64.69                  0.59%   \n",
      "2154                                           62.37                  0.66%   \n",
      "\n",
      "                       EVSE ID 1 Utilization Rate  Socket #1    Date  \\\n",
      "Charger ID                                                             \n",
      "1948        GR-PPC-E0000001948-1                       0.76%  7/2/21   \n",
      "2057        GR-PPC-E0000002057-1                       0.88%  7/2/21   \n",
      "2104        GR-PPC-E0000002104-1                       0.75%  7/2/21   \n",
      "2114        GR-PPC-E0000002114-1                       0.90%  7/2/21   \n",
      "2154        GR-PPC-E0000002154-1                       0.96%  7/2/21   \n",
      "\n",
      "            Μέρες συνδεμένος  \n",
      "Charger ID                    \n",
      "1948                     307  \n",
      "2057                     307  \n",
      "2104                     307  \n",
      "2114                     307  \n",
      "2154                     307  \n"
     ]
    }
   ],
   "source": [
    "data =dataOriginal\n",
    "print(data.head())"
   ]
  },
  {
   "cell_type": "code",
   "execution_count": 1203,
   "metadata": {},
   "outputs": [
    {
     "name": "stderr",
     "output_type": "stream",
     "text": [
      "<ipython-input-1203-83f7a5b28b1b>:10: UserWarning: Could not infer format, so each element will be parsed individually, falling back to `dateutil`. To ensure parsing is consistent and as-expected, please specify a format.\n",
      "  data['Date'] = pd.to_datetime(data['Date'])\n"
     ]
    }
   ],
   "source": [
    "# convert DEI Blue Launch (1/7/2021) into DEI Blue Launch (1/7/2021) object and the into index \n",
    "#Start_datetime\n",
    "# data['Date'] = pd.to_datetime(data['Date'])\n",
    "# data['RandomTime'] = np.random.randint(0, 5000000, size=len(data))  # Generates a random minute for each row\n",
    "# data['DateTime'] = data['Date'] + pd.to_timedelta(data['RandomTime'], unit='T')\n",
    "# data.set_index('DateTime', inplace=True)\n",
    "# data.drop(columns=['Date', 'RandomTime'], inplace=True)\n",
    "\n",
    "# Assuming 'data' is your DataFrame and 'Date' is already a column in it\n",
    "data['Date'] = pd.to_datetime(data['Date'])\n",
    "\n",
    "# Create a function to apply to each group\n",
    "def add_time_intervals(group):\n",
    "    # Start time for the first observation of the day\n",
    "    start_time = pd.to_timedelta('8:00:00')\n",
    "    # Create timedeltas for 6-minute intervals\n",
    "    intervals = pd.to_timedelta(np.arange(len(group)) * 6, unit='m')\n",
    "    # Add intervals to the start time, then to the date (normalized to midnight)\n",
    "    group['DateTime'] = group['Date'].dt.floor('D') + start_time + intervals\n",
    "    return group\n",
    "\n",
    "# Group by the date (ignoring the time part), then apply the function\n",
    "data = data.groupby(data['Date'].dt.date).apply(add_time_intervals)\n",
    "\n",
    "# Set the new 'DateTime' column as the index\n",
    "data.set_index('DateTime', inplace=True)\n",
    "\n",
    "# Optionally, drop the original 'Date' column if it's no longer needed\n",
    "data.drop(columns=['Date'], inplace=True)\n"
   ]
  },
  {
   "cell_type": "code",
   "execution_count": 1204,
   "metadata": {},
   "outputs": [],
   "source": [
    "examine =data['Energy consumed (kWh)']"
   ]
  },
  {
   "cell_type": "code",
   "execution_count": 1205,
   "metadata": {},
   "outputs": [
    {
     "name": "stdout",
     "output_type": "stream",
     "text": [
      "count      318.00\n",
      "mean      2462.02\n",
      "std       5849.52\n",
      "min          0.00\n",
      "25%        265.38\n",
      "50%        820.36\n",
      "75%       2021.38\n",
      "max      52630.31\n",
      "Name: Energy consumed (kWh), dtype: float64\n"
     ]
    }
   ],
   "source": [
    "print(examine.describe().round(2))"
   ]
  },
  {
   "cell_type": "code",
   "execution_count": 1206,
   "metadata": {},
   "outputs": [
    {
     "name": "stdout",
     "output_type": "stream",
     "text": [
      "DateTime\n",
      "2021-07-02 08:00:00    1910.89\n",
      "2021-07-02 08:06:00    1951.31\n",
      "2021-07-02 08:12:00    2002.51\n",
      "2021-07-02 08:18:00    1917.74\n",
      "2021-07-02 08:24:00    2143.21\n",
      "Name: Energy consumed (kWh), dtype: float64\n"
     ]
    }
   ],
   "source": [
    "print(examine.head())"
   ]
  },
  {
   "cell_type": "code",
   "execution_count": 1207,
   "metadata": {},
   "outputs": [
    {
     "name": "stdout",
     "output_type": "stream",
     "text": [
      "<pandas.core.indexing._LocIndexer object at 0x2ae219f90>\n"
     ]
    }
   ],
   "source": [
    "print(examine.loc)"
   ]
  },
  {
   "cell_type": "code",
   "execution_count": 1208,
   "metadata": {},
   "outputs": [],
   "source": [
    "model =EVA(examine)"
   ]
  },
  {
   "cell_type": "code",
   "execution_count": 1209,
   "metadata": {},
   "outputs": [],
   "source": [
    "# model.get_extremes(method=\"BM\")\n",
    "                \n",
    "model.get_extremes(method=\"POT\", threshold=2021.38, extremes_type=\"high\")"
   ]
  },
  {
   "cell_type": "code",
   "execution_count": 1210,
   "metadata": {},
   "outputs": [
    {
     "data": {
      "text/plain": [
       "(<Figure size 768x480 with 1 Axes>,\n",
       " <Axes: xlabel='DateTime', ylabel='Energy consumed (kWh)'>)"
      ]
     },
     "execution_count": 1210,
     "metadata": {},
     "output_type": "execute_result"
    },
    {
     "data": {
      "image/png": "[encoded data removed]",
      "text/plain": [
       "<Figure size 768x480 with 1 Axes>"
      ]
     },
     "metadata": {},
     "output_type": "display_data"
    }
   ],
   "source": [
    "# model.plot_extremes()\n",
    "model.plot_extremes(show_clusters=True)\n"
   ]
  },
  {
   "cell_type": "code",
   "execution_count": 1211,
   "metadata": {},
   "outputs": [],
   "source": [
    "# model.fit_model()\n",
    "\n",
    "# Fit a model to the identified extremes\n",
    "model.fit_model(distribution=\"genpareto\")  # or \"exponential\", depending on your data and preference\n"
   ]
  },
  {
   "cell_type": "code",
   "execution_count": 1212,
   "metadata": {},
   "outputs": [],
   "source": [
    "summary = model.get_summary(\n",
    "    return_period=[1, 2, 5, 10, 25, 50, 100, 250, 500, 1000],\n",
    "    alpha=0.95,\n",
    "    n_samples=1000,\n",
    ")"
   ]
  },
  {
   "cell_type": "code",
   "execution_count": 1213,
   "metadata": {},
   "outputs": [
    {
     "name": "stdout",
     "output_type": "stream",
     "text": [
      "               return value      lower ci      upper ci\n",
      "return period                                          \n",
      "1.0            2.056261e+05  43178.157903  2.170579e+06\n",
      "2.0            5.649934e+05  51738.590005  1.428310e+07\n",
      "5.0            2.152404e+06  53027.969988  1.728251e+08\n",
      "10.0           5.922320e+06  54123.286785  1.139335e+09\n",
      "25.0           2.257494e+07  54890.566303  1.373675e+10\n",
      "50.0           6.212297e+07  55090.362497  9.032481e+10\n",
      "100.0          1.709550e+08  55212.953623  5.939253e+11\n",
      "250.0          6.516918e+08  55305.567241  7.608189e+12\n",
      "500.0          1.793386e+09  55345.432048  5.505056e+13\n",
      "1000.0         4.935207e+09  55651.513540  3.656583e+14\n"
     ]
    }
   ],
   "source": [
    "print(summary)\n"
   ]
  },
  {
   "cell_type": "code",
   "execution_count": 1214,
   "metadata": {},
   "outputs": [
    {
     "data": {
      "text/plain": [
       "(<Figure size 768x768 with 4 Axes>,\n",
       " (<Axes: title={'center': 'Return value plot'}, xlabel='Return period', ylabel='Energy consumed (kWh)'>,\n",
       "  <Axes: title={'center': 'Probability density plot'}, xlabel='Energy consumed (kWh)', ylabel='Probability density'>,\n",
       "  <Axes: title={'center': 'Q-Q plot'}, xlabel='Theoretical', ylabel='Observed'>,\n",
       "  <Axes: title={'center': 'P-P plot'}, xlabel='Theoretical', ylabel='Observed'>))"
      ]
     },
     "execution_count": 1214,
     "metadata": {},
     "output_type": "execute_result"
    },
    {
     "data": {
      "image/png": "[encoded data removed]",
      "text/plain": [
       "<Figure size 768x768 with 4 Axes>"
      ]
     },
     "metadata": {},
     "output_type": "display_data"
    }
   ],
   "source": [
    "model.plot_diagnostic(alpha=0.95)"
   ]
  },
  {
   "cell_type": "code",
   "execution_count": 1215,
   "metadata": {},
   "outputs": [
    {
     "name": "stdout",
     "output_type": "stream",
     "text": [
      "DateTime\n",
      "2021-07-02 13:48:00    1\n",
      "2021-09-07 08:48:00    1\n",
      "2022-04-04 08:00:00    1\n",
      "2022-03-01 08:06:00    1\n",
      "2022-01-31 08:06:00    1\n",
      "2022-01-23 08:00:00    1\n",
      "2021-11-10 08:00:00    1\n",
      "2021-11-04 08:00:00    1\n",
      "2021-09-22 08:12:00    1\n",
      "2021-09-18 08:00:00    1\n",
      "2021-09-10 08:06:00    1\n",
      "2021-08-31 08:00:00    1\n",
      "2021-07-16 08:06:00    1\n",
      "2021-08-20 08:06:00    1\n",
      "2021-08-18 08:06:00    1\n",
      "2021-08-13 08:06:00    1\n",
      "2021-08-10 08:24:00    1\n",
      "2021-08-08 08:00:00    1\n",
      "2021-08-03 08:00:00    1\n",
      "2021-07-28 08:00:00    1\n",
      "2021-07-23 08:00:00    1\n",
      "2021-07-20 08:42:00    1\n",
      "2022-04-21 08:00:00    1\n",
      "Name: count, dtype: int64\n",
      "[52630.31  2027.67 22820.27  6019.82  2792.84  2563.68  4519.38  7779.59\n",
      "  4674.21 36705.63  2064.02 18867.47  2919.63 41212.4   2142.11  4306.93\n",
      "  3967.26  2253.81  3443.75  3196.26 30122.3  41204.52 30160.86]\n"
     ]
    }
   ],
   "source": [
    "extremes = model.extremes\n",
    "\n",
    "# Getting the indices of the extremes\n",
    "extreme_indices = extremes.index\n",
    "extreme_values = extremes.values\n",
    "\n",
    "# Print or process the indices as needed\n",
    "# print(extreme_indices)\n",
    "print(extreme_indices.value_counts())\n",
    "print(extreme_values)\n"
   ]
  },
  {
   "cell_type": "code",
   "execution_count": 1216,
   "metadata": {},
   "outputs": [
    {
     "name": "stdout",
     "output_type": "stream",
     "text": [
      "DatetimeIndex(['2021-07-02 13:48:00', '2021-07-16 08:06:00',\n",
      "               '2021-07-20 08:42:00', '2021-07-23 08:00:00',\n",
      "               '2021-07-28 08:00:00', '2021-08-03 08:00:00',\n",
      "               '2021-08-08 08:00:00', '2021-08-10 08:24:00',\n",
      "               '2021-08-13 08:06:00', '2021-08-18 08:06:00',\n",
      "               '2021-08-20 08:06:00', '2021-08-31 08:00:00',\n",
      "               '2021-09-07 08:48:00', '2021-09-10 08:06:00',\n",
      "               '2021-09-18 08:00:00', '2021-09-22 08:12:00',\n",
      "               '2021-11-04 08:00:00', '2021-11-10 08:00:00',\n",
      "               '2022-01-23 08:00:00', '2022-01-31 08:06:00',\n",
      "               '2022-03-01 08:06:00', '2022-04-04 08:00:00',\n",
      "               '2022-04-21 08:00:00'],\n",
      "              dtype='datetime64[ns]', name='DateTime', freq=None)\n"
     ]
    }
   ],
   "source": [
    "print(extreme_indices)"
   ]
  },
  {
   "cell_type": "code",
   "execution_count": 1217,
   "metadata": {},
   "outputs": [],
   "source": [
    "dataOriginal= data\n",
    "# convert DEI Blue Launch (1/7/2021) into DEI Blue Launch (1/7/2021) object and the into index \n",
    "# dataOriginal['DEI Blue Launch (1/7/2021)'] = pd.to_datetime(dataOriginal['DEI Blue Launch (1/7/2021)'])\n",
    "# dataOriginal.set_index('DEI Blue Launch (1/7/2021)', inplace=True)\n"
   ]
  },
  {
   "cell_type": "code",
   "execution_count": 1218,
   "metadata": {},
   "outputs": [],
   "source": [
    "# Energy consumed (kWh)\n",
    "filterOriginal = dataOriginal[dataOriginal['Energy consumed (kWh)'].isin(extreme_values)]\n",
    "\n"
   ]
  },
  {
   "cell_type": "code",
   "execution_count": 1219,
   "metadata": {},
   "outputs": [
    {
     "name": "stdout",
     "output_type": "stream",
     "text": [
      "DateTime\n",
      "2021-07-02 13:48:00    Ethniki Odos 12o Km Ethnikis Thessalonikis Pereas\n",
      "2021-07-16 08:06:00                         Nafpliou 39 & OHE & Diotimas\n",
      "2021-07-20 08:42:00                                       Plateia Nymfon\n",
      "2021-07-23 08:00:00                   E.O. Kerkyras - Palaiokastritsas 2\n",
      "2021-07-28 08:00:00                                  Leoforos Chaina 271\n",
      "2021-08-03 08:00:00                                       Kolokotroni 22\n",
      "2021-08-08 08:00:00                                          Zefirou 111\n",
      "2021-08-10 08:24:00                                Leoforos Poseidonos 8\n",
      "2021-08-13 08:06:00                         Athens International Airport\n",
      "2021-08-18 08:06:00                         Athens International Airport\n",
      "2021-08-20 08:06:00                                    Irodotou & Didous\n",
      "2021-08-31 08:00:00                                          Lazaraki 59\n",
      "2021-09-07 08:48:00                               Leoforos Kalamakiou 93\n",
      "2021-09-10 08:06:00                                          Aggelaki 15\n",
      "2021-09-18 08:00:00                                Konstantinoupoleos 63\n",
      "2021-09-22 08:12:00                                         Kifisias 326\n",
      "2021-11-04 08:00:00                                      Nikou Krasadaki\n",
      "2021-11-10 08:00:00                        Leofororos Karamanli Koumpe 8\n",
      "2022-01-23 08:00:00                                            Ladochori\n",
      "2022-01-31 08:06:00              Leof. Vouliagmenis 85 & Profiti Ilia 18\n",
      "2022-03-01 08:06:00    Ethniki Odos 12o Km Ethnikis Thessalonikis Pereas\n",
      "2022-04-04 08:00:00                                          Zefirou 111\n",
      "2022-04-21 08:00:00                               Leoforos Mesogeion 299\n",
      "Name: Address, dtype: object\n"
     ]
    }
   ],
   "source": [
    "# Address\n",
    "print(filterOriginal['Address'])"
   ]
  },
  {
   "cell_type": "code",
   "execution_count": 1220,
   "metadata": {},
   "outputs": [
    {
     "name": "stdout",
     "output_type": "stream",
     "text": [
      "       Energy consumed (kWh)  Charging Time (h)  Euros (VAT included)  \\\n",
      "count                  23.00              23.00                  23.0   \n",
      "mean                14278.03            1296.92                   0.0   \n",
      "std                 16173.50            1255.29                   0.0   \n",
      "min                  2027.67             231.12                   0.0   \n",
      "25%                  2856.24             512.36                   0.0   \n",
      "50%                  4519.38             685.79                   0.0   \n",
      "75%                 26471.28            1739.28                   0.0   \n",
      "max                 52630.31            5055.67                   0.0   \n",
      "\n",
      "       Max Energy Consumed in one session (kWh)  \n",
      "count                                     23.00  \n",
      "mean                                      72.19  \n",
      "std                                       14.97  \n",
      "min                                       24.85  \n",
      "25%                                       66.41  \n",
      "50%                                       74.48  \n",
      "75%                                       79.16  \n",
      "max                                      101.12  \n"
     ]
    }
   ],
   "source": [
    "print(filterOriginal.select_dtypes(include=['float64']).describe().round(2))"
   ]
  },
  {
   "cell_type": "code",
   "execution_count": 1221,
   "metadata": {},
   "outputs": [
    {
     "name": "stdout",
     "output_type": "stream",
     "text": [
      "       EVSE Sockets  max P per EVSE (kW)  Unnamed: 8  \\\n",
      "count    318.000000           318.000000  318.000000   \n",
      "mean       1.522013            22.955975   34.861635   \n",
      "std        0.500302             6.983844   15.307563   \n",
      "min        1.000000            22.000000   22.000000   \n",
      "25%        1.000000            22.000000   22.000000   \n",
      "50%        2.000000            22.000000   44.000000   \n",
      "75%        2.000000            22.000000   44.000000   \n",
      "max        2.000000           120.000000  120.000000   \n",
      "\n",
      "       Number of Charging Sessions  Energy consumed (kWh)  Charging Time (h)  \\\n",
      "count                   318.000000             318.000000         318.000000   \n",
      "mean                    196.918239            2462.025000         401.875912   \n",
      "std                     357.445978            5849.517577         662.149073   \n",
      "min                       0.000000               0.000000           0.000000   \n",
      "25%                      29.250000             265.385000          44.145000   \n",
      "50%                      73.000000             820.360000         151.955000   \n",
      "75%                     194.000000            2021.380000         403.987500   \n",
      "max                    2698.000000           52630.310000        5055.670000   \n",
      "\n",
      "       Euros (VAT included)  Max Energy Consumed in one session (kWh)  \\\n",
      "count                 318.0                                318.000000   \n",
      "mean                    0.0                                 55.253711   \n",
      "std                     0.0                                 19.167091   \n",
      "min                     0.0                                  1.170000   \n",
      "25%                     0.0                                 40.457500   \n",
      "50%                     0.0                                 58.670000   \n",
      "75%                     0.0                                 69.410000   \n",
      "max                     0.0                                101.120000   \n",
      "\n",
      "       Μέρες συνδεμένος  \n",
      "count        318.000000  \n",
      "mean         249.446541  \n",
      "std           56.730938  \n",
      "min           14.000000  \n",
      "25%          229.000000  \n",
      "50%          261.000000  \n",
      "75%          289.000000  \n",
      "max          307.000000  \n"
     ]
    }
   ],
   "source": [
    "print(data.describe())"
   ]
  },
  {
   "cell_type": "code",
   "execution_count": 1222,
   "metadata": {},
   "outputs": [],
   "source": [
    "filterExcluded = dataOriginal[~dataOriginal['Energy consumed (kWh)'].isin(extreme_values)&\n",
    "                              (dataOriginal['Energy consumed (kWh)'] <= 2021.38)]\n"
   ]
  },
  {
   "cell_type": "code",
   "execution_count": 1223,
   "metadata": {},
   "outputs": [
    {
     "data": {
      "text/html": [
       "<div>\n",
       "<style scoped>\n",
       "    .dataframe tbody tr th:only-of-type {\n",
       "        vertical-align: middle;\n",
       "    }\n",
       "\n",
       "    .dataframe tbody tr th {\n",
       "        vertical-align: top;\n",
       "    }\n",
       "\n",
       "    .dataframe thead th {\n",
       "        text-align: right;\n",
       "    }\n",
       "</style>\n",
       "<table border=\"1\" class=\"dataframe\">\n",
       "  <thead>\n",
       "    <tr style=\"text-align: right;\">\n",
       "      <th></th>\n",
       "      <th>Energy consumed (kWh)</th>\n",
       "      <th>Charging Time (h)</th>\n",
       "      <th>Euros (VAT included)</th>\n",
       "      <th>Max Energy Consumed in one session (kWh)</th>\n",
       "    </tr>\n",
       "  </thead>\n",
       "  <tbody>\n",
       "    <tr>\n",
       "      <th>count</th>\n",
       "      <td>238.00</td>\n",
       "      <td>238.00</td>\n",
       "      <td>238.0</td>\n",
       "      <td>238.00</td>\n",
       "    </tr>\n",
       "    <tr>\n",
       "      <th>mean</th>\n",
       "      <td>666.24</td>\n",
       "      <td>145.28</td>\n",
       "      <td>0.0</td>\n",
       "      <td>50.64</td>\n",
       "    </tr>\n",
       "    <tr>\n",
       "      <th>std</th>\n",
       "      <td>554.79</td>\n",
       "      <td>219.72</td>\n",
       "      <td>0.0</td>\n",
       "      <td>18.83</td>\n",
       "    </tr>\n",
       "    <tr>\n",
       "      <th>min</th>\n",
       "      <td>0.00</td>\n",
       "      <td>0.00</td>\n",
       "      <td>0.0</td>\n",
       "      <td>1.17</td>\n",
       "    </tr>\n",
       "    <tr>\n",
       "      <th>25%</th>\n",
       "      <td>205.65</td>\n",
       "      <td>31.70</td>\n",
       "      <td>0.0</td>\n",
       "      <td>36.12</td>\n",
       "    </tr>\n",
       "    <tr>\n",
       "      <th>50%</th>\n",
       "      <td>522.57</td>\n",
       "      <td>83.07</td>\n",
       "      <td>0.0</td>\n",
       "      <td>52.44</td>\n",
       "    </tr>\n",
       "    <tr>\n",
       "      <th>75%</th>\n",
       "      <td>1004.10</td>\n",
       "      <td>190.86</td>\n",
       "      <td>0.0</td>\n",
       "      <td>65.89</td>\n",
       "    </tr>\n",
       "    <tr>\n",
       "      <th>max</th>\n",
       "      <td>2002.51</td>\n",
       "      <td>2020.09</td>\n",
       "      <td>0.0</td>\n",
       "      <td>93.54</td>\n",
       "    </tr>\n",
       "  </tbody>\n",
       "</table>\n",
       "</div>"
      ],
      "text/plain": [
       "       Energy consumed (kWh)  Charging Time (h)  Euros (VAT included)  \\\n",
       "count                 238.00             238.00                 238.0   \n",
       "mean                  666.24             145.28                   0.0   \n",
       "std                   554.79             219.72                   0.0   \n",
       "min                     0.00               0.00                   0.0   \n",
       "25%                   205.65              31.70                   0.0   \n",
       "50%                   522.57              83.07                   0.0   \n",
       "75%                  1004.10             190.86                   0.0   \n",
       "max                  2002.51            2020.09                   0.0   \n",
       "\n",
       "       Max Energy Consumed in one session (kWh)  \n",
       "count                                    238.00  \n",
       "mean                                      50.64  \n",
       "std                                       18.83  \n",
       "min                                        1.17  \n",
       "25%                                       36.12  \n",
       "50%                                       52.44  \n",
       "75%                                       65.89  \n",
       "max                                       93.54  "
      ]
     },
     "execution_count": 1223,
     "metadata": {},
     "output_type": "execute_result"
    }
   ],
   "source": [
    "filterExcluded.select_dtypes(include=['float64']).describe().round(2)"
   ]
  },
  {
   "cell_type": "code",
   "execution_count": 1224,
   "metadata": {},
   "outputs": [],
   "source": [
    "# filterOriginal.plot()"
   ]
  },
  {
   "cell_type": "markdown",
   "metadata": {},
   "source": []
  },
  {
   "cell_type": "code",
   "execution_count": 1225,
   "metadata": {},
   "outputs": [
    {
     "data": {
      "text/html": [
       "<div>\n",
       "<style scoped>\n",
       "    .dataframe tbody tr th:only-of-type {\n",
       "        vertical-align: middle;\n",
       "    }\n",
       "\n",
       "    .dataframe tbody tr th {\n",
       "        vertical-align: top;\n",
       "    }\n",
       "\n",
       "    .dataframe thead th {\n",
       "        text-align: right;\n",
       "    }\n",
       "</style>\n",
       "<table border=\"1\" class=\"dataframe\">\n",
       "  <thead>\n",
       "    <tr style=\"text-align: right;\">\n",
       "      <th></th>\n",
       "      <th>Energy consumed (kWh)</th>\n",
       "      <th>Charging Time (h)</th>\n",
       "      <th>Euros (VAT included)</th>\n",
       "      <th>Max Energy Consumed in one session (kWh)</th>\n",
       "    </tr>\n",
       "  </thead>\n",
       "  <tbody>\n",
       "    <tr>\n",
       "      <th>Energy consumed (kWh)</th>\n",
       "      <td>1.000000</td>\n",
       "      <td>0.470498</td>\n",
       "      <td>NaN</td>\n",
       "      <td>0.676073</td>\n",
       "    </tr>\n",
       "    <tr>\n",
       "      <th>Charging Time (h)</th>\n",
       "      <td>0.470498</td>\n",
       "      <td>1.000000</td>\n",
       "      <td>NaN</td>\n",
       "      <td>0.255722</td>\n",
       "    </tr>\n",
       "    <tr>\n",
       "      <th>Euros (VAT included)</th>\n",
       "      <td>NaN</td>\n",
       "      <td>NaN</td>\n",
       "      <td>NaN</td>\n",
       "      <td>NaN</td>\n",
       "    </tr>\n",
       "    <tr>\n",
       "      <th>Max Energy Consumed in one session (kWh)</th>\n",
       "      <td>0.676073</td>\n",
       "      <td>0.255722</td>\n",
       "      <td>NaN</td>\n",
       "      <td>1.000000</td>\n",
       "    </tr>\n",
       "  </tbody>\n",
       "</table>\n",
       "</div>"
      ],
      "text/plain": [
       "                                          Energy consumed (kWh)  \\\n",
       "Energy consumed (kWh)                                  1.000000   \n",
       "Charging Time (h)                                      0.470498   \n",
       "Euros (VAT included)                                        NaN   \n",
       "Max Energy Consumed in one session (kWh)               0.676073   \n",
       "\n",
       "                                          Charging Time (h)  \\\n",
       "Energy consumed (kWh)                              0.470498   \n",
       "Charging Time (h)                                  1.000000   \n",
       "Euros (VAT included)                                    NaN   \n",
       "Max Energy Consumed in one session (kWh)           0.255722   \n",
       "\n",
       "                                          Euros (VAT included)  \\\n",
       "Energy consumed (kWh)                                      NaN   \n",
       "Charging Time (h)                                          NaN   \n",
       "Euros (VAT included)                                       NaN   \n",
       "Max Energy Consumed in one session (kWh)                   NaN   \n",
       "\n",
       "                                          Max Energy Consumed in one session (kWh)  \n",
       "Energy consumed (kWh)                                                     0.676073  \n",
       "Charging Time (h)                                                         0.255722  \n",
       "Euros (VAT included)                                                           NaN  \n",
       "Max Energy Consumed in one session (kWh)                                  1.000000  "
      ]
     },
     "execution_count": 1225,
     "metadata": {},
     "output_type": "execute_result"
    }
   ],
   "source": [
    "filterOriginalFloats = filterOriginal.select_dtypes(include=['float64'])\n",
    "\n",
    "filterOriginalFloats.corr()\n",
    "# filterOriginal.iloc[:,:-5].corr()"
   ]
  },
  {
   "cell_type": "code",
   "execution_count": 1234,
   "metadata": {},
   "outputs": [
    {
     "data": {
      "text/html": [
       "<div>\n",
       "<style scoped>\n",
       "    .dataframe tbody tr th:only-of-type {\n",
       "        vertical-align: middle;\n",
       "    }\n",
       "\n",
       "    .dataframe tbody tr th {\n",
       "        vertical-align: top;\n",
       "    }\n",
       "\n",
       "    .dataframe thead th {\n",
       "        text-align: right;\n",
       "    }\n",
       "</style>\n",
       "<table border=\"1\" class=\"dataframe\">\n",
       "  <thead>\n",
       "    <tr style=\"text-align: right;\">\n",
       "      <th></th>\n",
       "      <th>Energy consumed (kWh)</th>\n",
       "      <th>Charging Time (h)</th>\n",
       "      <th>Euros (VAT included)</th>\n",
       "      <th>Max Energy Consumed in one session (kWh)</th>\n",
       "    </tr>\n",
       "  </thead>\n",
       "  <tbody>\n",
       "    <tr>\n",
       "      <th>count</th>\n",
       "      <td>23.00</td>\n",
       "      <td>23.00</td>\n",
       "      <td>23.0</td>\n",
       "      <td>23.00</td>\n",
       "    </tr>\n",
       "    <tr>\n",
       "      <th>mean</th>\n",
       "      <td>14278.03</td>\n",
       "      <td>1296.92</td>\n",
       "      <td>0.0</td>\n",
       "      <td>72.19</td>\n",
       "    </tr>\n",
       "    <tr>\n",
       "      <th>std</th>\n",
       "      <td>16173.50</td>\n",
       "      <td>1255.29</td>\n",
       "      <td>0.0</td>\n",
       "      <td>14.97</td>\n",
       "    </tr>\n",
       "    <tr>\n",
       "      <th>min</th>\n",
       "      <td>2027.67</td>\n",
       "      <td>231.12</td>\n",
       "      <td>0.0</td>\n",
       "      <td>24.85</td>\n",
       "    </tr>\n",
       "    <tr>\n",
       "      <th>25%</th>\n",
       "      <td>2856.24</td>\n",
       "      <td>512.36</td>\n",
       "      <td>0.0</td>\n",
       "      <td>66.41</td>\n",
       "    </tr>\n",
       "    <tr>\n",
       "      <th>50%</th>\n",
       "      <td>4519.38</td>\n",
       "      <td>685.79</td>\n",
       "      <td>0.0</td>\n",
       "      <td>74.48</td>\n",
       "    </tr>\n",
       "    <tr>\n",
       "      <th>75%</th>\n",
       "      <td>26471.28</td>\n",
       "      <td>1739.28</td>\n",
       "      <td>0.0</td>\n",
       "      <td>79.16</td>\n",
       "    </tr>\n",
       "    <tr>\n",
       "      <th>max</th>\n",
       "      <td>52630.31</td>\n",
       "      <td>5055.67</td>\n",
       "      <td>0.0</td>\n",
       "      <td>101.12</td>\n",
       "    </tr>\n",
       "  </tbody>\n",
       "</table>\n",
       "</div>"
      ],
      "text/plain": [
       "       Energy consumed (kWh)  Charging Time (h)  Euros (VAT included)  \\\n",
       "count                  23.00              23.00                  23.0   \n",
       "mean                14278.03            1296.92                   0.0   \n",
       "std                 16173.50            1255.29                   0.0   \n",
       "min                  2027.67             231.12                   0.0   \n",
       "25%                  2856.24             512.36                   0.0   \n",
       "50%                  4519.38             685.79                   0.0   \n",
       "75%                 26471.28            1739.28                   0.0   \n",
       "max                 52630.31            5055.67                   0.0   \n",
       "\n",
       "       Max Energy Consumed in one session (kWh)  \n",
       "count                                     23.00  \n",
       "mean                                      72.19  \n",
       "std                                       14.97  \n",
       "min                                       24.85  \n",
       "25%                                       66.41  \n",
       "50%                                       74.48  \n",
       "75%                                       79.16  \n",
       "max                                      101.12  "
      ]
     },
     "execution_count": 1234,
     "metadata": {},
     "output_type": "execute_result"
    }
   ],
   "source": [
    "filterOriginalFloats.describe().round(2)"
   ]
  },
  {
   "cell_type": "code",
   "execution_count": 1227,
   "metadata": {},
   "outputs": [],
   "source": [
    "dataFloats = data.select_dtypes(include=['float64'])\n",
    "# dataFloats.corr()\n",
    "dataFloats.describe()\n",
    "\n",
    "removeExtremes = dataFloats-filterOriginalFloats"
   ]
  },
  {
   "cell_type": "code",
   "execution_count": 1228,
   "metadata": {},
   "outputs": [
    {
     "data": {
      "text/html": [
       "<div>\n",
       "<style scoped>\n",
       "    .dataframe tbody tr th:only-of-type {\n",
       "        vertical-align: middle;\n",
       "    }\n",
       "\n",
       "    .dataframe tbody tr th {\n",
       "        vertical-align: top;\n",
       "    }\n",
       "\n",
       "    .dataframe thead th {\n",
       "        text-align: right;\n",
       "    }\n",
       "</style>\n",
       "<table border=\"1\" class=\"dataframe\">\n",
       "  <thead>\n",
       "    <tr style=\"text-align: right;\">\n",
       "      <th></th>\n",
       "      <th>Energy consumed (kWh)</th>\n",
       "      <th>Charging Time (h)</th>\n",
       "      <th>Euros (VAT included)</th>\n",
       "      <th>Max Energy Consumed in one session (kWh)</th>\n",
       "    </tr>\n",
       "  </thead>\n",
       "  <tbody>\n",
       "    <tr>\n",
       "      <th>count</th>\n",
       "      <td>23.0</td>\n",
       "      <td>23.0</td>\n",
       "      <td>23.0</td>\n",
       "      <td>23.0</td>\n",
       "    </tr>\n",
       "    <tr>\n",
       "      <th>mean</th>\n",
       "      <td>0.0</td>\n",
       "      <td>0.0</td>\n",
       "      <td>0.0</td>\n",
       "      <td>0.0</td>\n",
       "    </tr>\n",
       "    <tr>\n",
       "      <th>std</th>\n",
       "      <td>0.0</td>\n",
       "      <td>0.0</td>\n",
       "      <td>0.0</td>\n",
       "      <td>0.0</td>\n",
       "    </tr>\n",
       "    <tr>\n",
       "      <th>min</th>\n",
       "      <td>0.0</td>\n",
       "      <td>0.0</td>\n",
       "      <td>0.0</td>\n",
       "      <td>0.0</td>\n",
       "    </tr>\n",
       "    <tr>\n",
       "      <th>25%</th>\n",
       "      <td>0.0</td>\n",
       "      <td>0.0</td>\n",
       "      <td>0.0</td>\n",
       "      <td>0.0</td>\n",
       "    </tr>\n",
       "    <tr>\n",
       "      <th>50%</th>\n",
       "      <td>0.0</td>\n",
       "      <td>0.0</td>\n",
       "      <td>0.0</td>\n",
       "      <td>0.0</td>\n",
       "    </tr>\n",
       "    <tr>\n",
       "      <th>75%</th>\n",
       "      <td>0.0</td>\n",
       "      <td>0.0</td>\n",
       "      <td>0.0</td>\n",
       "      <td>0.0</td>\n",
       "    </tr>\n",
       "    <tr>\n",
       "      <th>max</th>\n",
       "      <td>0.0</td>\n",
       "      <td>0.0</td>\n",
       "      <td>0.0</td>\n",
       "      <td>0.0</td>\n",
       "    </tr>\n",
       "  </tbody>\n",
       "</table>\n",
       "</div>"
      ],
      "text/plain": [
       "       Energy consumed (kWh)  Charging Time (h)  Euros (VAT included)  \\\n",
       "count                   23.0               23.0                  23.0   \n",
       "mean                     0.0                0.0                   0.0   \n",
       "std                      0.0                0.0                   0.0   \n",
       "min                      0.0                0.0                   0.0   \n",
       "25%                      0.0                0.0                   0.0   \n",
       "50%                      0.0                0.0                   0.0   \n",
       "75%                      0.0                0.0                   0.0   \n",
       "max                      0.0                0.0                   0.0   \n",
       "\n",
       "       Max Energy Consumed in one session (kWh)  \n",
       "count                                      23.0  \n",
       "mean                                        0.0  \n",
       "std                                         0.0  \n",
       "min                                         0.0  \n",
       "25%                                         0.0  \n",
       "50%                                         0.0  \n",
       "75%                                         0.0  \n",
       "max                                         0.0  "
      ]
     },
     "execution_count": 1228,
     "metadata": {},
     "output_type": "execute_result"
    }
   ],
   "source": [
    "\n",
    "removeExtremes.describe()"
   ]
  },
  {
   "cell_type": "code",
   "execution_count": 1229,
   "metadata": {},
   "outputs": [
    {
     "data": {
      "text/html": [
       "<div>\n",
       "<style scoped>\n",
       "    .dataframe tbody tr th:only-of-type {\n",
       "        vertical-align: middle;\n",
       "    }\n",
       "\n",
       "    .dataframe tbody tr th {\n",
       "        vertical-align: top;\n",
       "    }\n",
       "\n",
       "    .dataframe thead th {\n",
       "        text-align: right;\n",
       "    }\n",
       "</style>\n",
       "<table border=\"1\" class=\"dataframe\">\n",
       "  <thead>\n",
       "    <tr style=\"text-align: right;\">\n",
       "      <th></th>\n",
       "      <th>Energy consumed (kWh)</th>\n",
       "      <th>Charging Time (h)</th>\n",
       "      <th>Euros (VAT included)</th>\n",
       "      <th>Max Energy Consumed in one session (kWh)</th>\n",
       "    </tr>\n",
       "  </thead>\n",
       "  <tbody>\n",
       "    <tr>\n",
       "      <th>count</th>\n",
       "      <td>23.0</td>\n",
       "      <td>23.0</td>\n",
       "      <td>23.0</td>\n",
       "      <td>23.0</td>\n",
       "    </tr>\n",
       "    <tr>\n",
       "      <th>mean</th>\n",
       "      <td>0.0</td>\n",
       "      <td>0.0</td>\n",
       "      <td>0.0</td>\n",
       "      <td>0.0</td>\n",
       "    </tr>\n",
       "    <tr>\n",
       "      <th>std</th>\n",
       "      <td>0.0</td>\n",
       "      <td>0.0</td>\n",
       "      <td>0.0</td>\n",
       "      <td>0.0</td>\n",
       "    </tr>\n",
       "    <tr>\n",
       "      <th>min</th>\n",
       "      <td>0.0</td>\n",
       "      <td>0.0</td>\n",
       "      <td>0.0</td>\n",
       "      <td>0.0</td>\n",
       "    </tr>\n",
       "    <tr>\n",
       "      <th>25%</th>\n",
       "      <td>0.0</td>\n",
       "      <td>0.0</td>\n",
       "      <td>0.0</td>\n",
       "      <td>0.0</td>\n",
       "    </tr>\n",
       "    <tr>\n",
       "      <th>50%</th>\n",
       "      <td>0.0</td>\n",
       "      <td>0.0</td>\n",
       "      <td>0.0</td>\n",
       "      <td>0.0</td>\n",
       "    </tr>\n",
       "    <tr>\n",
       "      <th>75%</th>\n",
       "      <td>0.0</td>\n",
       "      <td>0.0</td>\n",
       "      <td>0.0</td>\n",
       "      <td>0.0</td>\n",
       "    </tr>\n",
       "    <tr>\n",
       "      <th>max</th>\n",
       "      <td>0.0</td>\n",
       "      <td>0.0</td>\n",
       "      <td>0.0</td>\n",
       "      <td>0.0</td>\n",
       "    </tr>\n",
       "  </tbody>\n",
       "</table>\n",
       "</div>"
      ],
      "text/plain": [
       "       Energy consumed (kWh)  Charging Time (h)  Euros (VAT included)  \\\n",
       "count                   23.0               23.0                  23.0   \n",
       "mean                     0.0                0.0                   0.0   \n",
       "std                      0.0                0.0                   0.0   \n",
       "min                      0.0                0.0                   0.0   \n",
       "25%                      0.0                0.0                   0.0   \n",
       "50%                      0.0                0.0                   0.0   \n",
       "75%                      0.0                0.0                   0.0   \n",
       "max                      0.0                0.0                   0.0   \n",
       "\n",
       "       Max Energy Consumed in one session (kWh)  \n",
       "count                                      23.0  \n",
       "mean                                        0.0  \n",
       "std                                         0.0  \n",
       "min                                         0.0  \n",
       "25%                                         0.0  \n",
       "50%                                         0.0  \n",
       "75%                                         0.0  \n",
       "max                                         0.0  "
      ]
     },
     "execution_count": 1229,
     "metadata": {},
     "output_type": "execute_result"
    }
   ],
   "source": [
    "removeExtremes.describe()"
   ]
  },
  {
   "cell_type": "code",
   "execution_count": 1230,
   "metadata": {},
   "outputs": [],
   "source": [
    "compare2 = filterOriginalFloats.corr()- dataFloats.corr()"
   ]
  },
  {
   "cell_type": "code",
   "execution_count": 1231,
   "metadata": {},
   "outputs": [
    {
     "name": "stdout",
     "output_type": "stream",
     "text": [
      "                                          Energy consumed (kWh)  \\\n",
      "Energy consumed (kWh)                                  0.000000   \n",
      "Charging Time (h)                                     -0.165788   \n",
      "Euros (VAT included)                                        NaN   \n",
      "Max Energy Consumed in one session (kWh)               0.273170   \n",
      "\n",
      "                                          Charging Time (h)  \\\n",
      "Energy consumed (kWh)                             -0.165788   \n",
      "Charging Time (h)                                  0.000000   \n",
      "Euros (VAT included)                                    NaN   \n",
      "Max Energy Consumed in one session (kWh)          -0.159918   \n",
      "\n",
      "                                          Euros (VAT included)  \\\n",
      "Energy consumed (kWh)                                      NaN   \n",
      "Charging Time (h)                                          NaN   \n",
      "Euros (VAT included)                                       NaN   \n",
      "Max Energy Consumed in one session (kWh)                   NaN   \n",
      "\n",
      "                                          Max Energy Consumed in one session (kWh)  \n",
      "Energy consumed (kWh)                                                     0.273170  \n",
      "Charging Time (h)                                                        -0.159918  \n",
      "Euros (VAT included)                                                           NaN  \n",
      "Max Energy Consumed in one session (kWh)                                  0.000000  \n"
     ]
    }
   ],
   "source": [
    "print(compare2)"
   ]
  },
  {
   "cell_type": "code",
   "execution_count": 1232,
   "metadata": {},
   "outputs": [],
   "source": [
    "# from sklearn.metrics.pairwise import cosine_similarity\n",
    "\n",
    "# similarity = cosine_similarity(filterOriginal.iloc[:,:-5], data.iloc[:,:-5])   "
   ]
  },
  {
   "cell_type": "code",
   "execution_count": 1233,
   "metadata": {},
   "outputs": [],
   "source": [
    "# print(similarity)"
   ]
  }
 ],
 "metadata": {
  "kernelspec": {
   "display_name": "Api",
   "language": "python",
   "name": "python3"
  },
  "language_info": {
   "codemirror_mode": {
    "name": "ipython",
    "version": 3
   },
   "file_extension": ".py",
   "mimetype": "text/x-python",
   "name": "python",
   "nbconvert_exporter": "python",
   "pygments_lexer": "ipython3",
   "version": "3.9.7"
  }
 },
 "nbformat": 4,
 "nbformat_minor": 2
}
