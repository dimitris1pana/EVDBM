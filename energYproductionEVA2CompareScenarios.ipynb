{
 "cells": [
  {
   "cell_type": "code",
   "execution_count": 106,
   "metadata": {},
   "outputs": [],
   "source": [
    "\n",
    "# TimeSeries - Block Maxima\n",
    "from pydoc import describe\n",
    "from unicodedata import decimal\n",
    "from pyextremes import EVA,get_extremes , __version__\n",
    "import seaborn as sns\n",
    "import pandas as pd\n",
    "import matplotlib.pyplot as plt\n",
    "import numpy as np\n",
    "import sqlite3\n",
    "import numpy as np\n",
    "import datetime\n",
    "from dateutil.relativedelta import relativedelta\n",
    "from scipy.signal import find_peaks\n",
    "import pdb"
   ]
  },
  {
   "cell_type": "code",
   "execution_count": 107,
   "metadata": {},
   "outputs": [],
   "source": [
    "def loadCsv(path):\n",
    "    loader = pd.read_csv(path, index_col=0,delimiter=',', parse_dates=True).squeeze()\n",
    "    return loader\n",
    "\n",
    "def loadCsvNoInd(path):\n",
    "    loader = pd.read_csv(path,delimiter=',', parse_dates=True).squeeze()\n",
    "    return loader"
   ]
  },
  {
   "cell_type": "code",
   "execution_count": 108,
   "metadata": {},
   "outputs": [
    {
     "name": "stdout",
     "output_type": "stream",
     "text": [
      "<class 'pandas.core.frame.DataFrame'>\n",
      "RangeIndex: 70 entries, 0 to 69\n",
      "Data columns (total 11 columns):\n",
      " #   Column              Non-Null Count  Dtype  \n",
      "---  ------              --------------  -----  \n",
      " 0   Humidity            70 non-null     float64\n",
      " 1   Temperature         70 non-null     float64\n",
      " 2   cloudcover          70 non-null     float64\n",
      " 3   windspeedKmph       70 non-null     float64\n",
      " 4   Solar w/m2          70 non-null     float64\n",
      " 5   Diffuse Solar w/m2  70 non-null     float64\n",
      " 6   Produzida           70 non-null     float64\n",
      " 7   year                70 non-null     int64  \n",
      " 8   month               70 non-null     int64  \n",
      " 9   day                 70 non-null     int64  \n",
      " 10  timestamp           70 non-null     object \n",
      "dtypes: float64(7), int64(3), object(1)\n",
      "memory usage: 6.1+ KB\n",
      "None\n",
      "<class 'pandas.core.frame.DataFrame'>\n",
      "RangeIndex: 70 entries, 0 to 69\n",
      "Data columns (total 11 columns):\n",
      " #   Column              Non-Null Count  Dtype  \n",
      "---  ------              --------------  -----  \n",
      " 0   Humidity            70 non-null     float64\n",
      " 1   Temperature         70 non-null     float64\n",
      " 2   cloudcover          70 non-null     float64\n",
      " 3   windspeedKmph       70 non-null     float64\n",
      " 4   Solar w/m2          70 non-null     float64\n",
      " 5   Diffuse Solar w/m2  70 non-null     float64\n",
      " 6   Produzida           70 non-null     float64\n",
      " 7   year                70 non-null     int64  \n",
      " 8   month               70 non-null     int64  \n",
      " 9   day                 70 non-null     int64  \n",
      " 10  timestamp           70 non-null     object \n",
      "dtypes: float64(7), int64(3), object(1)\n",
      "memory usage: 6.1+ KB\n",
      "None\n",
      "   Humidity  Temperature  cloudcover  windspeedKmph  Solar w/m2  \\\n",
      "0     67.00        23.00       23.00          17.00      429.53   \n",
      "1     62.00        23.00       12.00          10.00      353.90   \n",
      "2     80.00        18.00       98.00          19.00      270.19   \n",
      "3     55.00        21.00       44.00          22.00      467.82   \n",
      "4     60.00        21.00       29.00          13.00      270.99   \n",
      "\n",
      "   Diffuse Solar w/m2  Produzida  year  month  day            timestamp  \n",
      "0              357.58      11.00  2018      8   28  2024-10-08 13:00:00  \n",
      "1              307.56       8.00  2018      9    6  2024-10-08 14:00:00  \n",
      "2              222.06      11.50  2018     10   15  2024-10-08 16:00:00  \n",
      "3              298.51      16.25  2018     10   18  2024-10-08 14:00:00  \n",
      "4              213.60      14.00  2018     10   21  2024-10-08 16:00:00  \n"
     ]
    }
   ],
   "source": [
    "FILEname1 = 'zarco_data'\n",
    "FILEname2='joao_data'\n",
    "FilenNameext1 = '.csvextremes.csv'\n",
    "FilenNameext2 ='.csvrelated2extrems.csv'\n",
    "\n",
    "\n",
    "FILE1 = FILEname1+FilenNameext1\n",
    "FILE2 =FILEname1+FilenNameext2\n",
    "FILE3 =FILEname2+FilenNameext1\n",
    "FILE4=FILEname2+FilenNameext2\n",
    "UPTOCOLUMN= 5\n",
    "data1a = loadCsv(FILE1)\n",
    "data1b=loadCsvNoInd(FILE2)\n",
    "data2a = loadCsv(FILE3)\n",
    "data2b=loadCsvNoInd(FILE4)\n",
    "# print(data.head())\n",
    "# print(data.describe())\n",
    "print(data1b.info())\n",
    "# data.dropna(inplace=True)\n",
    "print(data1b.info())\n",
    "print(data1b.head())"
   ]
  },
  {
   "cell_type": "code",
   "execution_count": 109,
   "metadata": {},
   "outputs": [
    {
     "name": "stdout",
     "output_type": "stream",
     "text": [
      "    Humidity  Temperature  cloudcover  windspeedKmph  Solar w/m2  \\\n",
      "0      67.00        23.00       23.00          17.00      373.24   \n",
      "1      63.00        23.00       17.00           8.00      307.24   \n",
      "2      80.00        18.00       98.00          19.00      335.27   \n",
      "3      55.00        21.00       44.00          22.00      323.70   \n",
      "4      61.00        21.00       65.00           6.00      307.47   \n",
      "..       ...          ...         ...            ...         ...   \n",
      "64     74.00        22.00       61.00          17.00      384.44   \n",
      "65     88.00        19.00      100.00          33.00       98.42   \n",
      "66     67.00        18.00       77.00          22.00      287.01   \n",
      "67     60.00        18.00       60.00          15.00      248.08   \n",
      "68     58.00        16.00       74.00          15.00       91.23   \n",
      "\n",
      "    Diffuse Solar w/m2  Produzida  year  month  day            timestamp  \n",
      "0               319.52      10.25  2018      8   28  2024-10-08 13:00:00  \n",
      "1               278.91       5.75  2018      9    6  2024-10-08 13:00:00  \n",
      "2               237.50       8.50  2018     10   15  2024-10-08 16:00:00  \n",
      "3               262.08      10.25  2018     10   18  2024-10-08 14:00:00  \n",
      "4               221.08      11.00  2018     10   19  2024-10-08 16:00:00  \n",
      "..                 ...        ...   ...    ...  ...                  ...  \n",
      "64              279.44       9.25  2020      9   23  2024-10-08 16:00:00  \n",
      "65               87.85       0.50  2020     10   19  2024-10-08 16:00:00  \n",
      "66              132.46       8.00  2020     10   25  2024-10-08 16:00:00  \n",
      "67              201.40       6.00  2020     10   27  2024-10-08 15:00:00  \n",
      "68               85.33       0.75  2020     11   29  2024-10-08 15:00:00  \n",
      "\n",
      "[69 rows x 11 columns]\n"
     ]
    }
   ],
   "source": [
    "print(data2b)"
   ]
  },
  {
   "cell_type": "code",
   "execution_count": 110,
   "metadata": {},
   "outputs": [
    {
     "name": "stdout",
     "output_type": "stream",
     "text": [
      "                time  count\n",
      "year                       \n",
      "2018-01-01  13:00:00      2\n",
      "2018-01-01  14:00:00      2\n",
      "2018-01-01  15:00:00      1\n",
      "2018-01-01  16:00:00      4\n",
      "2019-01-01  13:00:00     13\n",
      "2019-01-01  14:00:00      2\n",
      "2019-01-01  15:00:00      6\n",
      "2019-01-01  16:00:00     11\n",
      "2020-01-01  13:00:00      3\n",
      "2020-01-01  14:00:00      3\n",
      "2020-01-01  15:00:00      7\n",
      "2020-01-01  16:00:00     15\n"
     ]
    }
   ],
   "source": [
    "print(data2a)"
   ]
  },
  {
   "cell_type": "code",
   "execution_count": 111,
   "metadata": {},
   "outputs": [
    {
     "data": {
      "image/png": "[encoded data removed]",
      "text/plain": [
       "<Figure size 1440x1008 with 4 Axes>"
      ]
     },
     "metadata": {
      "needs_background": "light"
     },
     "output_type": "display_data"
    }
   ],
   "source": [
    "import pandas as pd\n",
    "import matplotlib.pyplot as plt\n",
    "import seaborn as sns\n",
    "\n",
    "# Assuming df1 and df2 are the two dataframes you're comparing\n",
    "\n",
    "# Pivot tables to get years on the rows and times on the columns\n",
    "pivot1 = data1a.pivot_table(index=data1a.index.year, columns='time', values='count')\n",
    "pivot2 = data2a.pivot_table(index=data2a.index.year, columns='time', values='count')\n",
    "# Set global font size\n",
    "plt.rcParams.update({'font.size': 18})\n",
    "\n",
    "# Create a figure with two subplots for comparison\n",
    "plt.figure(figsize=(20, 14))\n",
    "\n",
    "# Heatmap for the first dataset\n",
    "plt.subplot(1, 2, 1)\n",
    "sns.heatmap(pivot1, annot=True, cmap='Blues', cbar_kws={'label': 'Count'})\n",
    "plt.title(FILEname1)\n",
    "\n",
    "# Heatmap for the second dataset\n",
    "plt.subplot(1, 2, 2)\n",
    "sns.heatmap(pivot2, annot=True, cmap='Reds', cbar_kws={'label': 'Count'})\n",
    "plt.title(FILEname2)\n",
    "\n",
    "plt.tight_layout()\n",
    "plt.show()"
   ]
  },
  {
   "cell_type": "code",
   "execution_count": 112,
   "metadata": {},
   "outputs": [],
   "source": [
    "# print(data1b.iloc[:,:-5].mean())\n",
    "# print(data2b.iloc[:,:-5].mean())    \n",
    "\n",
    "# print(data1b.iloc[:,:-5].mean()- data2b.iloc[:,:-5].mean())\n",
    "# Delta= data1b.iloc[:,:-5].mean()- data2b.iloc[:,:-5].mean()"
   ]
  },
  {
   "cell_type": "code",
   "execution_count": 113,
   "metadata": {},
   "outputs": [
    {
     "name": "stdout",
     "output_type": "stream",
     "text": [
      "Humidity              67.73\n",
      "Temperature           18.74\n",
      "cloudcover            55.46\n",
      "windspeedKmph         18.50\n",
      "Solar w/m2           368.73\n",
      "Diffuse Solar w/m2   241.51\n",
      "dtype: float64\n",
      "Humidity             0.48\n",
      "Temperature          0.52\n",
      "cloudcover           0.55\n",
      "windspeedKmph        0.45\n",
      "Solar w/m2           0.33\n",
      "Diffuse Solar w/m2   0.50\n",
      "dtype: float64\n"
     ]
    }
   ],
   "source": [
    "def Normalization(min,max,mean):\n",
    "    return (mean-min)/(max-min)\n",
    "\n",
    "Normalized1b = Normalization(data1b.iloc[:,:-UPTOCOLUMN].min(),data1b.iloc[:,:-UPTOCOLUMN].max(),data1b.iloc[:,:-UPTOCOLUMN].mean())\n",
    "Normalized2b = Normalization(data2b.iloc[:,:-UPTOCOLUMN].min(),data2b.iloc[:,:-UPTOCOLUMN].max(),data2b.iloc[:,:-UPTOCOLUMN].mean())\n",
    "print(data1b.iloc[:,:-5].mean())\n",
    "print(Normalized1b)"
   ]
  },
  {
   "cell_type": "code",
   "execution_count": 115,
   "metadata": {},
   "outputs": [
    {
     "name": "stdout",
     "output_type": "stream",
     "text": [
      "Humidity              0.00\n",
      "Temperature          -0.02\n",
      "cloudcover           -0.03\n",
      "windspeedKmph         0.15\n",
      "Solar w/m2           -0.01\n",
      "Diffuse Solar w/m2    0.02\n",
      "dtype: float64\n"
     ]
    }
   ],
   "source": [
    "Delta= Normalized1b- Normalized2b\n",
    "print(Delta)"
   ]
  },
  {
   "cell_type": "code",
   "execution_count": 168,
   "metadata": {},
   "outputs": [
    {
     "name": "stdout",
     "output_type": "stream",
     "text": [
      "1.014\n",
      "1.014\n",
      "0.002427205849962588\n",
      "0.05\n",
      "-0.019966024313850195\n",
      "0.1\n",
      "-0.02745755693581775\n",
      "0.2\n",
      "0.14608084765756657\n",
      "0.05\n",
      "-0.006079131052082021\n",
      "0.4\n",
      "0.01638681382573376\n",
      "0.2\n"
     ]
    },
    {
     "data": {
      "text/plain": [
       "0.000793961189957818"
      ]
     },
     "execution_count": 168,
     "metadata": {},
     "output_type": "execute_result"
    }
   ],
   "source": [
    "def Scount(data):\n",
    "    return data.count()[0]\n",
    "def ScalingFactor(data1,data2):   \n",
    "    return round(Scount(data1) / Scount(data2), 3)\n",
    "\n",
    "print(ScalingFactor(data1b,data2b))\n",
    "\n",
    "weights = [0.05, 0.1, 0.2,0.05,0.4,0.2]\n",
    "\n",
    "def BenchmarkingScore(data1, data2, Delta):\n",
    "    count=-1\n",
    "    s=[]\n",
    "    scale = ScalingFactor(data1,data2)\n",
    "    print(scale)\n",
    "    for i in Delta:\n",
    "        count = count+1\n",
    "        print(i)\n",
    "        print(weights[count])\n",
    "        s.append(i*weights[count])\n",
    "      # return round(i*ScalingFactor,3)\n",
    "\n",
    "    sumOfvalues =sum(s)\n",
    "    return scale*sumOfvalues\n",
    "\n",
    "\n",
    "BenchmarkingScore(data1b,data2b, Delta)   \n",
    "\n"
   ]
  }
 ],
 "metadata": {
  "kernelspec": {
   "display_name": "Api",
   "language": "python",
   "name": "python3"
  },
  "language_info": {
   "codemirror_mode": {
    "name": "ipython",
    "version": 3
   },
   "file_extension": ".py",
   "mimetype": "text/x-python",
   "name": "python",
   "nbconvert_exporter": "python",
   "pygments_lexer": "ipython3",
   "version": "3.9.7"
  }
 },
 "nbformat": 4,
 "nbformat_minor": 2
}
